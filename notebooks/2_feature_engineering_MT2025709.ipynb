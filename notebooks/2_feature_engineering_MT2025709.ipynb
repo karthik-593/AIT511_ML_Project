{
 "cells": [
  {
   "cell_type": "markdown",
   "id": "d75de4ad-6b91-4b34-9e5b-3f16353064d5",
   "metadata": {},
   "source": [
    "# Feature Engineering"
   ]
  },
  {
   "cell_type": "code",
   "execution_count": 1,
   "id": "7c50893b-875a-4fc2-a1bc-a80f4dc79d05",
   "metadata": {},
   "outputs": [],
   "source": [
    "import pandas as pd\n",
    "import numpy as np\n",
    "import warnings\n",
    "from sklearn.preprocessing import LabelEncoder\n",
    "from sklearn.model_selection import StratifiedKFold, GridSearchCV\n",
    "from sklearn.preprocessing import StandardScaler, OneHotEncoder\n",
    "from sklearn.compose import ColumnTransformer\n",
    "from sklearn.pipeline import Pipeline\n",
    "from sklearn.tree import DecisionTreeClassifier\n",
    "import time"
   ]
  },
  {
   "cell_type": "code",
   "execution_count": 2,
   "id": "4d4e5c6b-8718-4533-9f21-30758a6b12ef",
   "metadata": {},
   "outputs": [],
   "source": [
    "df_tr = pd.read_csv(\"train.csv\")\n",
    "df_ob = pd.read_csv(\"ObesityDataSet.csv\")\n",
    "df_ob = df_ob.rename(columns={'NObeyesdad': 'WeightCategory'})\n"
   ]
  },
  {
   "cell_type": "code",
   "execution_count": 5,
   "id": "3d7d3f34-c488-4b54-bc80-d8af0e47c2d5",
   "metadata": {},
   "outputs": [
    {
     "data": {
      "text/plain": [
       "count          2111\n",
       "unique            3\n",
       "top       Sometimes\n",
       "freq           1402\n",
       "Name: CALC, dtype: object"
      ]
     },
     "execution_count": 5,
     "metadata": {},
     "output_type": "execute_result"
    }
   ],
   "source": [
    "df_ob['CALC'].describe()"
   ]
  },
  {
   "cell_type": "code",
   "execution_count": 6,
   "id": "553e2a00-5b35-4036-90f1-05bca212f759",
   "metadata": {},
   "outputs": [],
   "source": [
    "df_ob['CALC'] = df_ob['CALC'].replace('Always', 'Sometimes')"
   ]
  },
  {
   "cell_type": "code",
   "execution_count": 7,
   "id": "f478ca1e-8159-4d64-bf3e-c63a20131462",
   "metadata": {},
   "outputs": [
    {
     "name": "stdout",
     "output_type": "stream",
     "text": [
      "Common columns: 17\n",
      "Only in train: {'id'}\n",
      "Only in obesity: set()\n"
     ]
    }
   ],
   "source": [
    "# Find differences\n",
    "common_cols = set(df_tr.columns) & set(df_ob.columns)\n",
    "only_in_train = set(df_tr.columns) - set(df_ob.columns)  \n",
    "only_in_obesity = set(df_ob.columns) - set(df_tr.columns)\n",
    "\n",
    "print(f\"Common columns: {len(common_cols)}\")\n",
    "print(f\"Only in train: {only_in_train}\")\n",
    "print(f\"Only in obesity: {only_in_obesity}\")"
   ]
  },
  {
   "cell_type": "markdown",
   "id": "30420d75-6dd2-4bb9-aabe-c44c959054e0",
   "metadata": {},
   "source": [
    "**Roundoff Columns**\n",
    "\n",
    "Supposed to round off the column as per our EDA, but kept some as continuous to find its impact on model accuracy "
   ]
  },
  {
   "cell_type": "code",
   "execution_count": 8,
   "id": "5b45a1ba-3fa3-4fe9-b8d7-2bf6645097c1",
   "metadata": {},
   "outputs": [],
   "source": [
    "#combined dataset\n",
    "train_df = pd.concat([df_tr, df_ob], ignore_index=True)\n",
    "test_df= pd.read_csv(\"test.csv\")\n",
    "test_ids = test_df['id']"
   ]
  },
  {
   "cell_type": "code",
   "execution_count": 9,
   "id": "f4b1fbd8-1485-4009-b2da-ed76d0cf9fcb",
   "metadata": {},
   "outputs": [],
   "source": [
    "def roundoff(df):\n",
    "    #df['FAF'] = df['FAF'].round().astype(int)\n",
    "    #df['TUE'] = df['TUE'].round().astype(int)\n",
    "    #df['CH2O'] = df['CH2O'].round().astype(int)\n",
    "    df['NCP'] = df['NCP'].round().astype(int)\n",
    "    df['FCVC'] = df['FCVC'].round().astype(int)\n",
    "    return df"
   ]
  },
  {
   "cell_type": "code",
   "execution_count": 10,
   "id": "b30d5cba-274f-47c0-9b56-d7db48cdc360",
   "metadata": {},
   "outputs": [],
   "source": [
    "train_df = roundoff(train_df)\n",
    "test_df = roundoff(test_df)"
   ]
  },
  {
   "cell_type": "code",
   "execution_count": 11,
   "id": "aa77a4b8-94e7-4837-821f-675530ad93d7",
   "metadata": {},
   "outputs": [],
   "source": [
    "df_tr = roundoff(df_tr)\n",
    "dr_ob = roundoff(df_ob)"
   ]
  },
  {
   "cell_type": "markdown",
   "id": "2065d6d6-b018-4617-885c-21b300e4fedf",
   "metadata": {},
   "source": [
    "**BMI interactions**\n",
    "\n",
    "BMI is identified as the most important feature, so trying out various combinations to find its impact on model accuracy."
   ]
  },
  {
   "cell_type": "code",
   "execution_count": 12,
   "id": "f04f25c7-adb4-4641-ae64-3afdc602e68c",
   "metadata": {},
   "outputs": [],
   "source": [
    "def add_bmi_interactions(df):\n",
    "    df['BMI'] = df['Weight'] / (df['Height'] ** 2)\n",
    "    df['HeightWeightRatio'] = df['Height'] / df_tr['Weight']\n",
    "    df['BMIxGender'] = df['BMI'] * df['Gender'].map({'Male': 1, 'Female': 0})\n",
    "    df['BMI_FAF'] = df['BMI'] * df['FAF']\n",
    "    df['BMI_sq'] = df['BMI']**2\n",
    "    df['Weight_sq'] = df['Weight']**2\n",
    "    return df"
   ]
  },
  {
   "cell_type": "code",
   "execution_count": 13,
   "id": "9f39978f-60a4-428f-834c-97b6d23a50d0",
   "metadata": {},
   "outputs": [],
   "source": [
    "train_df = add_bmi_interactions(train_df)\n",
    "test_df = add_bmi_interactions(test_df)"
   ]
  },
  {
   "cell_type": "code",
   "execution_count": 14,
   "id": "4b57a4b3-ab89-4b11-8b42-c94c5bb0afb0",
   "metadata": {},
   "outputs": [],
   "source": [
    "df_tr = add_bmi_interactions(df_tr)\n",
    "dr_ob = add_bmi_interactions(df_ob)"
   ]
  },
  {
   "cell_type": "markdown",
   "id": "87cb614a-c210-4d15-9a6f-0507405d4024",
   "metadata": {},
   "source": [
    "**Obesity type 3 interactions**"
   ]
  },
  {
   "cell_type": "code",
   "execution_count": 17,
   "id": "5334be3d-1447-4be3-b1c5-bdfc540758c2",
   "metadata": {},
   "outputs": [],
   "source": [
    "def obesity_type_3(df):    \n",
    "    df['Obesity_Type_III_Profile'] = (\n",
    "        (df['MTRANS'] == 'Public_Transportation') &\n",
    "        (df['NCP'].round() == 3) & \n",
    "        (df['FCVC'].round() == 3) & \n",
    "        (df['CALC'] == 'Sometimes') &\n",
    "        (df['family_history_with_overweight'] == 'yes')\n",
    "    ).astype(int)\n",
    "\n",
    "    return df"
   ]
  },
  {
   "cell_type": "code",
   "execution_count": 18,
   "id": "c78d5ad9-531e-48b8-94dd-fc4a4d9d12fd",
   "metadata": {},
   "outputs": [],
   "source": [
    "train_df = obesity_type_3(train_df)\n",
    "test_df = obesity_type_3(test_df)"
   ]
  },
  {
   "cell_type": "code",
   "execution_count": 19,
   "id": "91155acb-7d75-4d80-8290-788348e3aa47",
   "metadata": {},
   "outputs": [],
   "source": [
    "df_tr = obesity_type_3(df_tr)\n",
    "dr_ob = obesity_type_3(df_ob)"
   ]
  },
  {
   "cell_type": "markdown",
   "id": "cab437cd-9d1a-4e0f-be8d-7270ba7cc96b",
   "metadata": {},
   "source": [
    "**Combine categories in MTRANS**"
   ]
  },
  {
   "cell_type": "code",
   "execution_count": 20,
   "id": "e7f0cd57-1a9a-459d-98b6-f966063a8e7e",
   "metadata": {},
   "outputs": [],
   "source": [
    "#test_df['MTRANS'] = test_df['MTRANS'].replace(['Walking','Motorbike','Bike'], 'others')\n",
    "#train_df['MTRANS'] = train_df['MTRANS'].replace(['Walking','Motorbike','Bike'], 'others')\n",
    "#df_tr['MTRANS'] = df_tr['MTRANS'].replace(['Walking','Motorbike','Bike'], 'others')\n",
    "#df_ob['MTRANS'] = df_ob['MTRANS'].replace(['Walking','Motorbike','Bike'], 'others')"
   ]
  },
  {
   "cell_type": "markdown",
   "id": "279ddc23-7e12-4361-9c43-26ac49c6bd03",
   "metadata": {},
   "source": [
    "**New csv Files with the changes**"
   ]
  },
  {
   "cell_type": "code",
   "execution_count": 21,
   "id": "e00181c2-6757-4b38-87a4-4c3066d92d41",
   "metadata": {},
   "outputs": [],
   "source": [
    "train_df.to_csv('train_combined.csv', index=False)"
   ]
  },
  {
   "cell_type": "code",
   "execution_count": 22,
   "id": "87222039-8d25-4a6a-bf76-71b97b98ebcb",
   "metadata": {},
   "outputs": [],
   "source": [
    "test_df.to_csv('test_final.csv', index=False)"
   ]
  },
  {
   "cell_type": "code",
   "execution_count": 23,
   "id": "91f8f38d-3e7d-4b98-a5b0-69664e5c1a0c",
   "metadata": {},
   "outputs": [],
   "source": [
    "df_tr.to_csv('train1.csv', index=False)"
   ]
  },
  {
   "cell_type": "code",
   "execution_count": 24,
   "id": "78db7c05-be1d-48f7-8503-dc380fc85523",
   "metadata": {},
   "outputs": [],
   "source": [
    "df_ob.to_csv('Obesity1.csv', index=False)"
   ]
  },
  {
   "cell_type": "code",
   "execution_count": null,
   "id": "cb277e74-bd0a-49ce-b118-2135ed4c3c36",
   "metadata": {},
   "outputs": [],
   "source": []
  }
 ],
 "metadata": {
  "kernelspec": {
   "display_name": "Python (gpu_env)",
   "language": "python",
   "name": "gpu_env"
  },
  "language_info": {
   "codemirror_mode": {
    "name": "ipython",
    "version": 3
   },
   "file_extension": ".py",
   "mimetype": "text/x-python",
   "name": "python",
   "nbconvert_exporter": "python",
   "pygments_lexer": "ipython3",
   "version": "3.10.19"
  }
 },
 "nbformat": 4,
 "nbformat_minor": 5
}
