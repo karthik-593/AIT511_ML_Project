{
 "cells": [
  {
   "cell_type": "markdown",
   "id": "7ca3e532-1e72-4675-82e3-e6fb20f71899",
   "metadata": {},
   "source": [
    "### Final Model"
   ]
  },
  {
   "cell_type": "code",
   "execution_count": 319,
   "id": "a16bc27d-47a1-4f05-9688-259a0187716f",
   "metadata": {},
   "outputs": [],
   "source": [
    "import pandas as pd\n",
    "import numpy as np\n",
    "from sklearn.preprocessing import LabelEncoder\n",
    "from sklearn.model_selection import StratifiedKFold, GridSearchCV\n",
    "from sklearn.preprocessing import StandardScaler, OneHotEncoder\n",
    "from sklearn.compose import ColumnTransformer\n",
    "from sklearn.pipeline import Pipeline\n",
    "from sklearn.tree import DecisionTreeClassifier\n",
    "from xgboost import XGBClassifier\n",
    "import seaborn as sns\n",
    "import matplotlib.pyplot as plt\n",
    "import time"
   ]
  },
  {
   "cell_type": "code",
   "execution_count": 320,
   "id": "c5bdd28b-fa28-4cc9-ad38-5aec7e4ba190",
   "metadata": {},
   "outputs": [],
   "source": [
    "df = pd.read_csv(\"train_combined.csv\")"
   ]
  },
  {
   "cell_type": "code",
   "execution_count": 321,
   "id": "35de504a-6785-4be7-8f63-a64ed3294b01",
   "metadata": {},
   "outputs": [
    {
     "data": {
      "text/html": [
       "<div>\n",
       "<style scoped>\n",
       "    .dataframe tbody tr th:only-of-type {\n",
       "        vertical-align: middle;\n",
       "    }\n",
       "\n",
       "    .dataframe tbody tr th {\n",
       "        vertical-align: top;\n",
       "    }\n",
       "\n",
       "    .dataframe thead th {\n",
       "        text-align: right;\n",
       "    }\n",
       "</style>\n",
       "<table border=\"1\" class=\"dataframe\">\n",
       "  <thead>\n",
       "    <tr style=\"text-align: right;\">\n",
       "      <th></th>\n",
       "      <th>id</th>\n",
       "      <th>Gender</th>\n",
       "      <th>Age</th>\n",
       "      <th>Height</th>\n",
       "      <th>Weight</th>\n",
       "      <th>family_history_with_overweight</th>\n",
       "      <th>FAVC</th>\n",
       "      <th>FCVC</th>\n",
       "      <th>NCP</th>\n",
       "      <th>CAEC</th>\n",
       "      <th>...</th>\n",
       "      <th>CALC</th>\n",
       "      <th>MTRANS</th>\n",
       "      <th>WeightCategory</th>\n",
       "      <th>BMI</th>\n",
       "      <th>HeightWeightRatio</th>\n",
       "      <th>BMIxGender</th>\n",
       "      <th>BMI_FAF</th>\n",
       "      <th>BMI_sq</th>\n",
       "      <th>Weight_sq</th>\n",
       "      <th>Obesity_Type_III_Profile</th>\n",
       "    </tr>\n",
       "  </thead>\n",
       "  <tbody>\n",
       "    <tr>\n",
       "      <th>0</th>\n",
       "      <td>0.0</td>\n",
       "      <td>Male</td>\n",
       "      <td>24.443011</td>\n",
       "      <td>1.699998</td>\n",
       "      <td>81.669950</td>\n",
       "      <td>yes</td>\n",
       "      <td>yes</td>\n",
       "      <td>2</td>\n",
       "      <td>3</td>\n",
       "      <td>Sometimes</td>\n",
       "      <td>...</td>\n",
       "      <td>Sometimes</td>\n",
       "      <td>Public_Transportation</td>\n",
       "      <td>Overweight_Level_II</td>\n",
       "      <td>28.259565</td>\n",
       "      <td>0.020815</td>\n",
       "      <td>28.259565</td>\n",
       "      <td>0.000000</td>\n",
       "      <td>798.603001</td>\n",
       "      <td>6669.980733</td>\n",
       "      <td>0</td>\n",
       "    </tr>\n",
       "    <tr>\n",
       "      <th>1</th>\n",
       "      <td>1.0</td>\n",
       "      <td>Female</td>\n",
       "      <td>18.000000</td>\n",
       "      <td>1.560000</td>\n",
       "      <td>57.000000</td>\n",
       "      <td>yes</td>\n",
       "      <td>yes</td>\n",
       "      <td>2</td>\n",
       "      <td>3</td>\n",
       "      <td>Frequently</td>\n",
       "      <td>...</td>\n",
       "      <td>no</td>\n",
       "      <td>Automobile</td>\n",
       "      <td>Normal_Weight</td>\n",
       "      <td>23.422091</td>\n",
       "      <td>0.027368</td>\n",
       "      <td>0.000000</td>\n",
       "      <td>23.422091</td>\n",
       "      <td>548.594334</td>\n",
       "      <td>3249.000000</td>\n",
       "      <td>0</td>\n",
       "    </tr>\n",
       "    <tr>\n",
       "      <th>2</th>\n",
       "      <td>2.0</td>\n",
       "      <td>Female</td>\n",
       "      <td>18.000000</td>\n",
       "      <td>1.711460</td>\n",
       "      <td>50.165754</td>\n",
       "      <td>yes</td>\n",
       "      <td>yes</td>\n",
       "      <td>2</td>\n",
       "      <td>1</td>\n",
       "      <td>Sometimes</td>\n",
       "      <td>...</td>\n",
       "      <td>no</td>\n",
       "      <td>Public_Transportation</td>\n",
       "      <td>Insufficient_Weight</td>\n",
       "      <td>17.126706</td>\n",
       "      <td>0.034116</td>\n",
       "      <td>0.000000</td>\n",
       "      <td>14.832498</td>\n",
       "      <td>293.324052</td>\n",
       "      <td>2516.602874</td>\n",
       "      <td>0</td>\n",
       "    </tr>\n",
       "    <tr>\n",
       "      <th>3</th>\n",
       "      <td>3.0</td>\n",
       "      <td>Female</td>\n",
       "      <td>20.952737</td>\n",
       "      <td>1.710730</td>\n",
       "      <td>131.274851</td>\n",
       "      <td>yes</td>\n",
       "      <td>yes</td>\n",
       "      <td>3</td>\n",
       "      <td>3</td>\n",
       "      <td>Sometimes</td>\n",
       "      <td>...</td>\n",
       "      <td>Sometimes</td>\n",
       "      <td>Public_Transportation</td>\n",
       "      <td>Obesity_Type_III</td>\n",
       "      <td>44.855798</td>\n",
       "      <td>0.013032</td>\n",
       "      <td>0.000000</td>\n",
       "      <td>65.842167</td>\n",
       "      <td>2012.042650</td>\n",
       "      <td>17233.086505</td>\n",
       "      <td>1</td>\n",
       "    </tr>\n",
       "    <tr>\n",
       "      <th>4</th>\n",
       "      <td>4.0</td>\n",
       "      <td>Male</td>\n",
       "      <td>31.641081</td>\n",
       "      <td>1.914186</td>\n",
       "      <td>93.798055</td>\n",
       "      <td>yes</td>\n",
       "      <td>yes</td>\n",
       "      <td>3</td>\n",
       "      <td>2</td>\n",
       "      <td>Sometimes</td>\n",
       "      <td>...</td>\n",
       "      <td>Sometimes</td>\n",
       "      <td>Public_Transportation</td>\n",
       "      <td>Overweight_Level_II</td>\n",
       "      <td>25.599151</td>\n",
       "      <td>0.020408</td>\n",
       "      <td>25.599151</td>\n",
       "      <td>50.378438</td>\n",
       "      <td>655.316531</td>\n",
       "      <td>8798.075122</td>\n",
       "      <td>0</td>\n",
       "    </tr>\n",
       "  </tbody>\n",
       "</table>\n",
       "<p>5 rows × 25 columns</p>\n",
       "</div>"
      ],
      "text/plain": [
       "    id  Gender        Age    Height      Weight  \\\n",
       "0  0.0    Male  24.443011  1.699998   81.669950   \n",
       "1  1.0  Female  18.000000  1.560000   57.000000   \n",
       "2  2.0  Female  18.000000  1.711460   50.165754   \n",
       "3  3.0  Female  20.952737  1.710730  131.274851   \n",
       "4  4.0    Male  31.641081  1.914186   93.798055   \n",
       "\n",
       "  family_history_with_overweight FAVC  FCVC  NCP        CAEC  ...       CALC  \\\n",
       "0                            yes  yes     2    3   Sometimes  ...  Sometimes   \n",
       "1                            yes  yes     2    3  Frequently  ...         no   \n",
       "2                            yes  yes     2    1   Sometimes  ...         no   \n",
       "3                            yes  yes     3    3   Sometimes  ...  Sometimes   \n",
       "4                            yes  yes     3    2   Sometimes  ...  Sometimes   \n",
       "\n",
       "                  MTRANS       WeightCategory        BMI  HeightWeightRatio  \\\n",
       "0  Public_Transportation  Overweight_Level_II  28.259565           0.020815   \n",
       "1             Automobile        Normal_Weight  23.422091           0.027368   \n",
       "2  Public_Transportation  Insufficient_Weight  17.126706           0.034116   \n",
       "3  Public_Transportation     Obesity_Type_III  44.855798           0.013032   \n",
       "4  Public_Transportation  Overweight_Level_II  25.599151           0.020408   \n",
       "\n",
       "  BMIxGender    BMI_FAF       BMI_sq     Weight_sq  Obesity_Type_III_Profile  \n",
       "0  28.259565   0.000000   798.603001   6669.980733                         0  \n",
       "1   0.000000  23.422091   548.594334   3249.000000                         0  \n",
       "2   0.000000  14.832498   293.324052   2516.602874                         0  \n",
       "3   0.000000  65.842167  2012.042650  17233.086505                         1  \n",
       "4  25.599151  50.378438   655.316531   8798.075122                         0  \n",
       "\n",
       "[5 rows x 25 columns]"
      ]
     },
     "execution_count": 321,
     "metadata": {},
     "output_type": "execute_result"
    }
   ],
   "source": [
    "df.head()"
   ]
  },
  {
   "cell_type": "code",
   "execution_count": 322,
   "id": "11c88617-441c-43af-914b-79bbadd685ef",
   "metadata": {},
   "outputs": [],
   "source": [
    "test_df = pd.read_csv('test_final.csv')\n",
    "test_ids = test_df['id']"
   ]
  },
  {
   "cell_type": "code",
   "execution_count": 323,
   "id": "1dad681c-501e-47dd-bfc4-d93eff296a20",
   "metadata": {},
   "outputs": [
    {
     "name": "stdout",
     "output_type": "stream",
     "text": [
      "<class 'pandas.core.frame.DataFrame'>\n",
      "RangeIndex: 17644 entries, 0 to 17643\n",
      "Data columns (total 25 columns):\n",
      " #   Column                          Non-Null Count  Dtype  \n",
      "---  ------                          --------------  -----  \n",
      " 0   id                              15533 non-null  float64\n",
      " 1   Gender                          17644 non-null  object \n",
      " 2   Age                             17644 non-null  float64\n",
      " 3   Height                          17644 non-null  float64\n",
      " 4   Weight                          17644 non-null  float64\n",
      " 5   family_history_with_overweight  17644 non-null  object \n",
      " 6   FAVC                            17644 non-null  object \n",
      " 7   FCVC                            17644 non-null  int64  \n",
      " 8   NCP                             17644 non-null  int64  \n",
      " 9   CAEC                            17644 non-null  object \n",
      " 10  SMOKE                           17644 non-null  object \n",
      " 11  CH2O                            17644 non-null  float64\n",
      " 12  SCC                             17644 non-null  object \n",
      " 13  FAF                             17644 non-null  float64\n",
      " 14  TUE                             17644 non-null  float64\n",
      " 15  CALC                            17644 non-null  object \n",
      " 16  MTRANS                          17644 non-null  object \n",
      " 17  WeightCategory                  17644 non-null  object \n",
      " 18  BMI                             17644 non-null  float64\n",
      " 19  HeightWeightRatio               15533 non-null  float64\n",
      " 20  BMIxGender                      17644 non-null  float64\n",
      " 21  BMI_FAF                         17644 non-null  float64\n",
      " 22  BMI_sq                          17644 non-null  float64\n",
      " 23  Weight_sq                       17644 non-null  float64\n",
      " 24  Obesity_Type_III_Profile        17644 non-null  int64  \n",
      "dtypes: float64(13), int64(3), object(9)\n",
      "memory usage: 3.4+ MB\n"
     ]
    }
   ],
   "source": [
    "df.info()"
   ]
  },
  {
   "cell_type": "raw",
   "id": "68998e90-aac4-4fa2-a167-46f0da79da68",
   "metadata": {},
   "source": [
    "numeric_features = [\n",
    "    'Age', 'Height', 'Weight', 'BMI','BMIxGender' ,'HeightWeightRatio','BMI_FAF','BMI_sq','Weight_sq'\n",
    "    , 'CH2O', 'FAF', 'TUE'\n",
    "]\n",
    "\n",
    "categorical_features = [\n",
    "    'Gender', 'family_history_with_overweight', 'FAVC', 'CAEC', 'FCVC', 'NCP','Obesity_Type_III_Profile',\n",
    "      'CALC', 'MTRANS', 'SCC','SMOKE'\n",
    "    \t\n",
    "]"
   ]
  },
  {
   "cell_type": "code",
   "execution_count": 324,
   "id": "f20dd908-2b71-41b3-af04-eb5e038ae1d3",
   "metadata": {},
   "outputs": [],
   "source": [
    "numeric_features = [\n",
    "    'Age', 'Height', 'Weight', 'BMI','BMIxGender' \n",
    "    , 'CH2O', 'FAF', 'TUE'\n",
    "]\n",
    "\n",
    "categorical_features = [\n",
    "    'Gender', 'family_history_with_overweight', 'FAVC', 'CAEC', 'FCVC', 'NCP',\n",
    "      'CALC', 'MTRANS', 'SCC','SMOKE'\n",
    "    \t\n",
    "]"
   ]
  },
  {
   "cell_type": "code",
   "execution_count": 325,
   "id": "21591cf9-9f1a-4ac3-aaee-d9b1f2aff45b",
   "metadata": {},
   "outputs": [],
   "source": [
    "le = LabelEncoder()\n",
    "y = le.fit_transform(df['WeightCategory'])"
   ]
  },
  {
   "cell_type": "code",
   "execution_count": 326,
   "id": "f2ff2f4f-95a6-4d69-b88b-1ec2ba65e346",
   "metadata": {},
   "outputs": [
    {
     "data": {
      "text/plain": [
       "(17644, 18)"
      ]
     },
     "execution_count": 326,
     "metadata": {},
     "output_type": "execute_result"
    }
   ],
   "source": [
    "X = df[numeric_features + categorical_features]\n",
    "X_test_submission = test_df[numeric_features + categorical_features]\n",
    "X.shape"
   ]
  },
  {
   "cell_type": "code",
   "execution_count": 327,
   "id": "7fe803f4-fc77-45f6-bcd8-3f9a19fd5d45",
   "metadata": {},
   "outputs": [],
   "source": [
    "preprocessor = ColumnTransformer(transformers=[('num', StandardScaler(), numeric_features),\n",
    "                                               ('cat', OneHotEncoder(), categorical_features)], remainder='passthrough')"
   ]
  },
  {
   "cell_type": "code",
   "execution_count": 328,
   "id": "222e176b-8148-485e-9ffd-30b2d3e961f9",
   "metadata": {},
   "outputs": [],
   "source": [
    "preprocessor.fit(X)\n",
    "\n",
    "X_train_processed_array = preprocessor.transform(X)\n",
    "X_test_processed_array = preprocessor.transform(X_test_submission)\n",
    "\n",
    "feature_names = preprocessor.get_feature_names_out()\n",
    "\n",
    "X_train_processed = pd.DataFrame(X_train_processed_array, columns=feature_names, index=X.index)\n",
    "X_test_processed = pd.DataFrame(X_test_processed_array, columns=feature_names, index=X_test_submission.index)"
   ]
  },
  {
   "cell_type": "code",
   "execution_count": 329,
   "id": "8f5781eb-3f7f-4971-8ced-e99626f496a2",
   "metadata": {},
   "outputs": [],
   "source": [
    "# Set up 5-Fold Cross-Validation\n",
    "k_folds = StratifiedKFold(n_splits=5, shuffle=True, random_state=42)"
   ]
  },
  {
   "cell_type": "code",
   "execution_count": 330,
   "id": "048835d6-6d58-4b39-9249-d13ee4ec136d",
   "metadata": {},
   "outputs": [],
   "source": [
    "# XGBoost model\n",
    "model_xgb = XGBClassifier(\n",
    "    objective='multi:softmax',\n",
    "    num_class=len(le.classes_),  \n",
    "    random_state=42,\n",
    "    \n",
    "    n_jobs=-1,\n",
    "    device='cuda',        \n",
    "    tree_method='hist'    \n",
    ")"
   ]
  },
  {
   "cell_type": "code",
   "execution_count": 331,
   "id": "6a959c33-b170-4c12-a705-487eee428693",
   "metadata": {},
   "outputs": [],
   "source": [
    "param_grid_6 = {\n",
    "    'n_estimators': [950],\n",
    "    'learning_rate': [0.043],\n",
    "    'max_depth': [4],\n",
    "    'min_child_weight': [2],\n",
    "    'subsample': [0.7],         \n",
    "    'colsample_bytree': [ 0.78],  \n",
    "    'gamma': [0.1],\n",
    "    'reg_alpha': [0.1],\n",
    "    'reg_lambda': [4]\n",
    "    }"
   ]
  },
  {
   "cell_type": "code",
   "execution_count": 332,
   "id": "c37f073b-9653-4e23-a7ff-249c4603ef24",
   "metadata": {},
   "outputs": [],
   "source": [
    "# GridSearchCV\n",
    "grid_search_xgb6 = GridSearchCV(\n",
    "    estimator=model_xgb,\n",
    "    param_grid=param_grid_6,\n",
    "    cv=k_folds,\n",
    "    scoring='accuracy',\n",
    "    n_jobs=1,  \n",
    "    verbose=2\n",
    ")"
   ]
  },
  {
   "cell_type": "code",
   "execution_count": 333,
   "id": "2fedcaad-976c-49ff-8695-5177c5d01c5b",
   "metadata": {
    "scrolled": true
   },
   "outputs": [
    {
     "name": "stdout",
     "output_type": "stream",
     "text": [
      "Fitting 5 folds for each of 1 candidates, totalling 5 fits\n",
      "[CV] END colsample_bytree=0.78, gamma=0.1, learning_rate=0.043, max_depth=4, min_child_weight=2, n_estimators=950, reg_alpha=0.1, reg_lambda=4, subsample=0.7; total time= 1.9min\n",
      "[CV] END colsample_bytree=0.78, gamma=0.1, learning_rate=0.043, max_depth=4, min_child_weight=2, n_estimators=950, reg_alpha=0.1, reg_lambda=4, subsample=0.7; total time= 1.2min\n",
      "[CV] END colsample_bytree=0.78, gamma=0.1, learning_rate=0.043, max_depth=4, min_child_weight=2, n_estimators=950, reg_alpha=0.1, reg_lambda=4, subsample=0.7; total time=   9.8s\n",
      "[CV] END colsample_bytree=0.78, gamma=0.1, learning_rate=0.043, max_depth=4, min_child_weight=2, n_estimators=950, reg_alpha=0.1, reg_lambda=4, subsample=0.7; total time=   9.9s\n",
      "[CV] END colsample_bytree=0.78, gamma=0.1, learning_rate=0.043, max_depth=4, min_child_weight=2, n_estimators=950, reg_alpha=0.1, reg_lambda=4, subsample=0.7; total time=   9.9s\n",
      "Best XGBoost CV Accuracy: 91.345%\n",
      "Best XGBoost Parameters: {'colsample_bytree': 0.78, 'gamma': 0.1, 'learning_rate': 0.043, 'max_depth': 4, 'min_child_weight': 2, 'n_estimators': 950, 'reg_alpha': 0.1, 'reg_lambda': 4, 'subsample': 0.7}\n"
     ]
    }
   ],
   "source": [
    "grid_search_xgb6.fit(X_train_processed, y)\n",
    "\n",
    "results_df5 = pd.DataFrame(grid_search_xgb6.cv_results_)\n",
    "\n",
    "print(f\"Best XGBoost CV Accuracy: {grid_search_xgb6.best_score_ * 100:.3f}%\")\n",
    "print(f\"Best XGBoost Parameters: {grid_search_xgb6.best_params_}\")"
   ]
  },
  {
   "cell_type": "code",
   "execution_count": 334,
   "id": "4ae2bf43-38a6-4732-850e-ab8b5402628b",
   "metadata": {},
   "outputs": [],
   "source": [
    "best_model2 = grid_search_xgb6.best_estimator_\n",
    "predictions_numeric2 = best_model2.predict(X_test_processed)\n",
    "predictions_labels2 = le.inverse_transform(predictions_numeric2)"
   ]
  },
  {
   "cell_type": "markdown",
   "id": "d70c8eff-6b02-410d-9a46-8c267988b004",
   "metadata": {},
   "source": [
    "**Feature importance**"
   ]
  },
  {
   "cell_type": "code",
   "execution_count": 335,
   "id": "4f4d9ff4-28e5-4dd3-ab67-e369a0de1ced",
   "metadata": {},
   "outputs": [],
   "source": [
    "feature_names = preprocessor.get_feature_names_out()\n",
    "\n",
    "\n",
    "importance_df = pd.DataFrame({\n",
    "        'Feature': feature_names,\n",
    "        'Importance': best_model2.feature_importances_ \n",
    "    }).sort_values(by='Importance', ascending=False)    \n",
    "   "
   ]
  },
  {
   "cell_type": "code",
   "execution_count": 316,
   "id": "70c24e0d-393e-43db-a184-b71060858455",
   "metadata": {},
   "outputs": [
    {
     "data": {
      "text/html": [
       "<div>\n",
       "<style scoped>\n",
       "    .dataframe tbody tr th:only-of-type {\n",
       "        vertical-align: middle;\n",
       "    }\n",
       "\n",
       "    .dataframe tbody tr th {\n",
       "        vertical-align: top;\n",
       "    }\n",
       "\n",
       "    .dataframe thead th {\n",
       "        text-align: right;\n",
       "    }\n",
       "</style>\n",
       "<table border=\"1\" class=\"dataframe\">\n",
       "  <thead>\n",
       "    <tr style=\"text-align: right;\">\n",
       "      <th></th>\n",
       "      <th>Feature</th>\n",
       "      <th>Importance</th>\n",
       "    </tr>\n",
       "  </thead>\n",
       "  <tbody>\n",
       "    <tr>\n",
       "      <th>29</th>\n",
       "      <td>cat__Obesity_Type_III_Profile_0</td>\n",
       "      <td>0.176656</td>\n",
       "    </tr>\n",
       "    <tr>\n",
       "      <th>7</th>\n",
       "      <td>num__BMI_sq</td>\n",
       "      <td>0.146599</td>\n",
       "    </tr>\n",
       "    <tr>\n",
       "      <th>3</th>\n",
       "      <td>num__BMI</td>\n",
       "      <td>0.115912</td>\n",
       "    </tr>\n",
       "    <tr>\n",
       "      <th>30</th>\n",
       "      <td>cat__Obesity_Type_III_Profile_1</td>\n",
       "      <td>0.108891</td>\n",
       "    </tr>\n",
       "    <tr>\n",
       "      <th>12</th>\n",
       "      <td>cat__Gender_Female</td>\n",
       "      <td>0.097450</td>\n",
       "    </tr>\n",
       "    <tr>\n",
       "      <th>4</th>\n",
       "      <td>num__BMIxGender</td>\n",
       "      <td>0.058851</td>\n",
       "    </tr>\n",
       "    <tr>\n",
       "      <th>13</th>\n",
       "      <td>cat__Gender_Male</td>\n",
       "      <td>0.047638</td>\n",
       "    </tr>\n",
       "    <tr>\n",
       "      <th>2</th>\n",
       "      <td>num__Weight</td>\n",
       "      <td>0.022918</td>\n",
       "    </tr>\n",
       "    <tr>\n",
       "      <th>8</th>\n",
       "      <td>num__Weight_sq</td>\n",
       "      <td>0.020511</td>\n",
       "    </tr>\n",
       "    <tr>\n",
       "      <th>16</th>\n",
       "      <td>cat__FAVC_no</td>\n",
       "      <td>0.013289</td>\n",
       "    </tr>\n",
       "  </tbody>\n",
       "</table>\n",
       "</div>"
      ],
      "text/plain": [
       "                            Feature  Importance\n",
       "29  cat__Obesity_Type_III_Profile_0    0.176656\n",
       "7                       num__BMI_sq    0.146599\n",
       "3                          num__BMI    0.115912\n",
       "30  cat__Obesity_Type_III_Profile_1    0.108891\n",
       "12               cat__Gender_Female    0.097450\n",
       "4                   num__BMIxGender    0.058851\n",
       "13                 cat__Gender_Male    0.047638\n",
       "2                       num__Weight    0.022918\n",
       "8                    num__Weight_sq    0.020511\n",
       "16                     cat__FAVC_no    0.013289"
      ]
     },
     "execution_count": 316,
     "metadata": {},
     "output_type": "execute_result"
    }
   ],
   "source": [
    "importance_df.head(10)"
   ]
  },
  {
   "cell_type": "code",
   "execution_count": 296,
   "id": "c62de3d1-3ebc-41cb-8ac5-ac647ddde0de",
   "metadata": {},
   "outputs": [],
   "source": [
    "#top 20\n",
    "top_n = 20\n",
    "importance_df_top = importance_df.head(top_n) "
   ]
  },
  {
   "cell_type": "code",
   "execution_count": 297,
   "id": "2a5cef54-6db9-4712-9508-bc7680410510",
   "metadata": {},
   "outputs": [
    {
     "data": {
      "image/png": "[encoded data removed]",
      "text/plain": [
       "<Figure size 1000x800 with 1 Axes>"
      ]
     },
     "metadata": {},
     "output_type": "display_data"
    }
   ],
   "source": [
    "plt.figure(figsize=(10, 8)) # Adjust figure size as needed\n",
    "sns.barplot(x='Importance', y='Feature', data=importance_df_top)\n",
    "plt.title(f'Top {top_n} Feature Importances (XGBoost)')\n",
    "plt.xlabel('Importance Score')\n",
    "plt.ylabel('Feature Name')\n",
    "plt.tight_layout()"
   ]
  },
  {
   "cell_type": "markdown",
   "id": "211eb326-94f3-4431-807f-b60842b13f97",
   "metadata": {},
   "source": [
    "**generate submission file**"
   ]
  },
  {
   "cell_type": "code",
   "execution_count": 337,
   "id": "f2ac9eac-4eff-4ffa-a63f-2c65ed734b7f",
   "metadata": {},
   "outputs": [],
   "source": [
    "# Submission file XGB with regularization best model\n",
    "submission_df2 = pd.DataFrame({\n",
    "    'id': test_ids,\n",
    "    'NObeyesdad': predictions_labels2})"
   ]
  },
  {
   "cell_type": "code",
   "execution_count": 338,
   "id": "8b8d0dfc-a573-41e7-8397-41bd9575392c",
   "metadata": {},
   "outputs": [],
   "source": [
    "submission_df2.to_csv('submission_XGB_regul_final.csv', index=False)"
   ]
  },
  {
   "cell_type": "code",
   "execution_count": null,
   "id": "986612a3-b22d-48c5-840f-999c769113be",
   "metadata": {},
   "outputs": [],
   "source": []
  }
 ],
 "metadata": {
  "kernelspec": {
   "display_name": "Python (gpu_env)",
   "language": "python",
   "name": "gpu_env"
  },
  "language_info": {
   "codemirror_mode": {
    "name": "ipython",
    "version": 3
   },
   "file_extension": ".py",
   "mimetype": "text/x-python",
   "name": "python",
   "nbconvert_exporter": "python",
   "pygments_lexer": "ipython3",
   "version": "3.10.19"
  }
 },
 "nbformat": 4,
 "nbformat_minor": 5
}
