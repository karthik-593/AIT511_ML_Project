{
 "cells": [
  {
   "cell_type": "markdown",
   "id": "bdf6ab79-d346-421c-988a-8fe570aca17d",
   "metadata": {},
   "source": [
    "## Model accuracy comparison (Training/Combined)\n"
   ]
  },
  {
   "cell_type": "code",
   "execution_count": 280,
   "id": "48f610c3-97e7-4c84-b47b-b73c56e44b47",
   "metadata": {},
   "outputs": [],
   "source": [
    "import pandas as pd\n",
    "import numpy as np\n",
    "from sklearn.preprocessing import LabelEncoder\n",
    "from sklearn.model_selection import StratifiedKFold, GridSearchCV\n",
    "from sklearn.preprocessing import StandardScaler, OneHotEncoder\n",
    "from sklearn.compose import ColumnTransformer\n",
    "from sklearn.pipeline import Pipeline\n",
    "from sklearn.tree import DecisionTreeClassifier\n",
    "from xgboost import XGBClassifier\n",
    "import seaborn as sns\n",
    "import matplotlib.pyplot as plt\n",
    "import time"
   ]
  },
  {
   "cell_type": "code",
   "execution_count": 281,
   "id": "aa0ecdcb-0bc2-4f19-8c6b-00e20ac1c8f7",
   "metadata": {},
   "outputs": [],
   "source": [
    "df = pd.read_csv(\"train1.csv\")\n"
   ]
  },
  {
   "cell_type": "code",
   "execution_count": 284,
   "id": "aafc1fbf-c982-4836-8ef2-f6fa7d87f891",
   "metadata": {},
   "outputs": [],
   "source": [
    "test_df = pd.read_csv('test_final.csv')\n",
    "test_ids = test_df['id']"
   ]
  },
  {
   "cell_type": "code",
   "execution_count": 298,
   "id": "f29a0e6f-3674-4085-a69d-d0cf9ff4e18e",
   "metadata": {},
   "outputs": [],
   "source": [
    "numeric_features = [\n",
    "    'Age', 'Height', 'Weight', 'BMI','BMIxGender' ,'HeightWeightRatio','BMI_FAF','BMI_sq','Weight_sq'\n",
    "    , 'CH2O', 'FAF', 'TUE'\n",
    "]\n",
    "\n",
    "categorical_features = [\n",
    "    'Gender', 'family_history_with_overweight', 'FAVC', 'CAEC', 'FCVC', 'NCP','Obesity_Type_III_Profile',\n",
    "      'CALC', 'MTRANS', 'SCC','SMOKE'\n",
    "    \t\n",
    "]"
   ]
  },
  {
   "cell_type": "code",
   "execution_count": 299,
   "id": "829bc56b-a0a7-4df7-aac7-1aaac9c3455d",
   "metadata": {},
   "outputs": [],
   "source": [
    "le = LabelEncoder()\n",
    "y = le.fit_transform(df['WeightCategory'])"
   ]
  },
  {
   "cell_type": "code",
   "execution_count": 300,
   "id": "45cb7791-41f2-4a46-ad35-70c20eba6023",
   "metadata": {},
   "outputs": [
    {
     "data": {
      "text/plain": [
       "(15533, 23)"
      ]
     },
     "execution_count": 300,
     "metadata": {},
     "output_type": "execute_result"
    }
   ],
   "source": [
    "X = df[numeric_features + categorical_features]\n",
    "X_test_submission = test_df[numeric_features + categorical_features]\n",
    "X.shape"
   ]
  },
  {
   "cell_type": "code",
   "execution_count": 301,
   "id": "adf85452-7bc0-43b1-bb6e-b28327bc5e03",
   "metadata": {},
   "outputs": [],
   "source": [
    "preprocessor = ColumnTransformer(transformers=[('num', StandardScaler(), numeric_features),\n",
    "                                               ('cat', OneHotEncoder(handle_unknown='ignore'), categorical_features)], remainder='passthrough')"
   ]
  },
  {
   "cell_type": "code",
   "execution_count": 302,
   "id": "693ef852-b4e2-46ac-a245-f95a23586970",
   "metadata": {},
   "outputs": [],
   "source": [
    "pipeline = Pipeline([\n",
    "    ('preprocessor', preprocessor),\n",
    "    ('classifier', XGBClassifier(\n",
    "        objective='multi:softmax',\n",
    "        num_class=len(le.classes_),\n",
    "        random_state=42,\n",
    "        n_jobs=-1,\n",
    "        device='cuda',\n",
    "        tree_method='hist'\n",
    "    ))\n",
    "])"
   ]
  },
  {
   "cell_type": "code",
   "execution_count": 303,
   "id": "7eb21ffb-cf06-466f-985d-ee80ad2472d6",
   "metadata": {},
   "outputs": [],
   "source": [
    "# Set up 5-Fold Cross-Validation\n",
    "k_folds = StratifiedKFold(n_splits=5, shuffle=True, random_state=42)"
   ]
  },
  {
   "cell_type": "code",
   "execution_count": 304,
   "id": "e84fec30-47b6-4495-a33c-c95718983849",
   "metadata": {},
   "outputs": [],
   "source": [
    "# Grid 4\n",
    "param_grid_4 = {\n",
    "   'classifier__n_estimators': [960],\n",
    "    'classifier__learning_rate': [0.045],\n",
    "    'classifier__max_depth': [4],\n",
    "    'classifier__min_child_weight': [1],\n",
    "    'classifier__subsample': [0.7],\n",
    "    'classifier__colsample_bytree': [0.8],\n",
    "    'classifier__gamma': [0.1], \n",
    "    }"
   ]
  },
  {
   "cell_type": "code",
   "execution_count": 305,
   "id": "5272f098-e4bc-4837-9d51-6fec3ef3d810",
   "metadata": {},
   "outputs": [],
   "source": [
    "# GridSearchCV\n",
    "grid_search_xgb4 = GridSearchCV(\n",
    "    estimator=pipeline,\n",
    "    param_grid=param_grid_4,\n",
    "    cv=k_folds,\n",
    "    scoring='accuracy',\n",
    "    n_jobs=1,  \n",
    "    verbose=2\n",
    ")"
   ]
  },
  {
   "cell_type": "code",
   "execution_count": 306,
   "id": "ecff329e-a8b5-4a9d-81d3-8f92f29c8e3a",
   "metadata": {
    "scrolled": true
   },
   "outputs": [
    {
     "name": "stdout",
     "output_type": "stream",
     "text": [
      "Fitting 5 folds for each of 1 candidates, totalling 5 fits\n",
      "[CV] END classifier__colsample_bytree=0.8, classifier__gamma=0.1, classifier__learning_rate=0.045, classifier__max_depth=4, classifier__min_child_weight=1, classifier__n_estimators=960, classifier__subsample=0.7; total time= 1.6min\n",
      "[CV] END classifier__colsample_bytree=0.8, classifier__gamma=0.1, classifier__learning_rate=0.045, classifier__max_depth=4, classifier__min_child_weight=1, classifier__n_estimators=960, classifier__subsample=0.7; total time= 1.5min\n",
      "[CV] END classifier__colsample_bytree=0.8, classifier__gamma=0.1, classifier__learning_rate=0.045, classifier__max_depth=4, classifier__min_child_weight=1, classifier__n_estimators=960, classifier__subsample=0.7; total time=   9.7s\n",
      "[CV] END classifier__colsample_bytree=0.8, classifier__gamma=0.1, classifier__learning_rate=0.045, classifier__max_depth=4, classifier__min_child_weight=1, classifier__n_estimators=960, classifier__subsample=0.7; total time=   8.8s\n",
      "[CV] END classifier__colsample_bytree=0.8, classifier__gamma=0.1, classifier__learning_rate=0.045, classifier__max_depth=4, classifier__min_child_weight=1, classifier__n_estimators=960, classifier__subsample=0.7; total time=   8.8s\n",
      "Best XGBoost CV Accuracy: 90.111%\n",
      "Best XGBoost Parameters: {'classifier__colsample_bytree': 0.8, 'classifier__gamma': 0.1, 'classifier__learning_rate': 0.045, 'classifier__max_depth': 4, 'classifier__min_child_weight': 1, 'classifier__n_estimators': 960, 'classifier__subsample': 0.7}\n"
     ]
    }
   ],
   "source": [
    "grid_search_xgb4.fit(X, y)\n",
    "\n",
    "results_df4 = pd.DataFrame(grid_search_xgb4.cv_results_)\n",
    "\n",
    "print(f\"Best XGBoost CV Accuracy: {grid_search_xgb4.best_score_ * 100:.3f}%\")\n",
    "print(f\"Best XGBoost Parameters: {grid_search_xgb4.best_params_}\")"
   ]
  },
  {
   "cell_type": "code",
   "execution_count": 307,
   "id": "80320ea0-20f1-452a-a740-73177c62b2e3",
   "metadata": {},
   "outputs": [],
   "source": [
    "# Grid 6\n",
    "param_grid_6 = {\n",
    "   'classifier__n_estimators': [950],\n",
    "    'classifier__learning_rate': [0.045],\n",
    "    'classifier__max_depth': [4],\n",
    "    'classifier__min_child_weight': [1],\n",
    "    'classifier__subsample': [0.7],\n",
    "    'classifier__colsample_bytree': [0.8],\n",
    "    'classifier__gamma': [0.1], \n",
    "    'classifier__reg_alpha': [0.1],\n",
    "    'classifier__reg_lambda': [4]\n",
    "    }"
   ]
  },
  {
   "cell_type": "code",
   "execution_count": 308,
   "id": "00de855e-d713-4fc7-9961-a623f78b62cb",
   "metadata": {},
   "outputs": [],
   "source": [
    "# GridSearchCV\n",
    "grid_search_xgb6 = GridSearchCV(\n",
    "    estimator=pipeline,\n",
    "    param_grid=param_grid_6,\n",
    "    cv=k_folds,\n",
    "    scoring='accuracy',\n",
    "    n_jobs=1,  \n",
    "    verbose=2\n",
    ")"
   ]
  },
  {
   "cell_type": "code",
   "execution_count": 309,
   "id": "e7a23a2f-ab60-4d0d-8791-91d6eac05b75",
   "metadata": {
    "scrolled": true
   },
   "outputs": [
    {
     "name": "stdout",
     "output_type": "stream",
     "text": [
      "Fitting 5 folds for each of 1 candidates, totalling 5 fits\n",
      "[CV] END classifier__colsample_bytree=0.8, classifier__gamma=0.1, classifier__learning_rate=0.045, classifier__max_depth=4, classifier__min_child_weight=1, classifier__n_estimators=950, classifier__reg_alpha=0.1, classifier__reg_lambda=4, classifier__subsample=0.7; total time=   8.7s\n",
      "[CV] END classifier__colsample_bytree=0.8, classifier__gamma=0.1, classifier__learning_rate=0.045, classifier__max_depth=4, classifier__min_child_weight=1, classifier__n_estimators=950, classifier__reg_alpha=0.1, classifier__reg_lambda=4, classifier__subsample=0.7; total time=   8.9s\n",
      "[CV] END classifier__colsample_bytree=0.8, classifier__gamma=0.1, classifier__learning_rate=0.045, classifier__max_depth=4, classifier__min_child_weight=1, classifier__n_estimators=950, classifier__reg_alpha=0.1, classifier__reg_lambda=4, classifier__subsample=0.7; total time=   8.4s\n",
      "[CV] END classifier__colsample_bytree=0.8, classifier__gamma=0.1, classifier__learning_rate=0.045, classifier__max_depth=4, classifier__min_child_weight=1, classifier__n_estimators=950, classifier__reg_alpha=0.1, classifier__reg_lambda=4, classifier__subsample=0.7; total time=   8.6s\n",
      "[CV] END classifier__colsample_bytree=0.8, classifier__gamma=0.1, classifier__learning_rate=0.045, classifier__max_depth=4, classifier__min_child_weight=1, classifier__n_estimators=950, classifier__reg_alpha=0.1, classifier__reg_lambda=4, classifier__subsample=0.7; total time=   8.4s\n",
      "Best XGBoost CV Accuracy: 90.195%\n",
      "Best XGBoost Parameters: {'classifier__colsample_bytree': 0.8, 'classifier__gamma': 0.1, 'classifier__learning_rate': 0.045, 'classifier__max_depth': 4, 'classifier__min_child_weight': 1, 'classifier__n_estimators': 950, 'classifier__reg_alpha': 0.1, 'classifier__reg_lambda': 4, 'classifier__subsample': 0.7}\n"
     ]
    }
   ],
   "source": [
    "grid_search_xgb6.fit(X, y)\n",
    "\n",
    "results_df4 = pd.DataFrame(grid_search_xgb6.cv_results_)\n",
    "\n",
    "print(f\"Best XGBoost CV Accuracy: {grid_search_xgb6.best_score_ * 100:.3f}%\")\n",
    "print(f\"Best XGBoost Parameters: {grid_search_xgb6.best_params_}\")"
   ]
  },
  {
   "cell_type": "code",
   "execution_count": 310,
   "id": "bb7a7927-72d0-4463-b6f0-6319e2305e2b",
   "metadata": {},
   "outputs": [
    {
     "data": {
      "image/png": "[encoded data removed]",
      "text/plain": [
       "<Figure size 800x500 with 1 Axes>"
      ]
     },
     "metadata": {},
     "output_type": "display_data"
    }
   ],
   "source": [
    "datasets = ['Training Dataset', 'Training Dataset(L1/L2)', 'Combined Dataset', 'Combined Dataset(L1/L2)']\n",
    "accuracies = [90.111,90.195,91.311,91.391]\n",
    "\n",
    "plt.figure(figsize=(8,5))\n",
    "plt.bar(datasets, accuracies)\n",
    "plt.title(' Model Accuracies Based on Dataset', fontsize=14)\n",
    "plt.xlabel('Dataset', fontsize=12)\n",
    "plt.ylabel('Accuracy', fontsize=12)\n",
    "\n",
    "plt.xticks(rotation=30)\n",
    "plt.ylim(89, 92)\n",
    "plt.show()"
   ]
  },
  {
   "cell_type": "code",
   "execution_count": null,
   "id": "a40cc085-ec39-4151-a539-ba06acbd3b8e",
   "metadata": {},
   "outputs": [],
   "source": []
  }
 ],
 "metadata": {
  "kernelspec": {
   "display_name": "Python (gpu_env)",
   "language": "python",
   "name": "gpu_env"
  },
  "language_info": {
   "codemirror_mode": {
    "name": "ipython",
    "version": 3
   },
   "file_extension": ".py",
   "mimetype": "text/x-python",
   "name": "python",
   "nbconvert_exporter": "python",
   "pygments_lexer": "ipython3",
   "version": "3.10.19"
  }
 },
 "nbformat": 4,
 "nbformat_minor": 5
}
